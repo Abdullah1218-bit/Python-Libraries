# sunburst plot
fig=px.sunburst(df, path=['cut',
                          'clarity',
                          'color'
                          ], 
                values='price',
                title='Sunburst Plot of Cut vs Clarity vs Price',
                color='price',
                # color_continuous_scale='Viridis',

                )
# saving as htlm
fig.write_html('diamonds.html')
# saving as png
import plotly.io as pio
fig.write_image('diamonds.png')