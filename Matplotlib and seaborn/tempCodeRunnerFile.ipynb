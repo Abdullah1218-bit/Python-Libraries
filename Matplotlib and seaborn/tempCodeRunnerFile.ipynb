df=pd.read_csv(r'C:\Users\PC\Desktop\Data-Visualization\diamonds.csv')
df.head()
