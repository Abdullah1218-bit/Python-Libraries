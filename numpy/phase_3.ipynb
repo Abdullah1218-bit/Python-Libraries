{
 "cells": [
  {
   "cell_type": "code",
   "execution_count": 2,
   "id": "7fde1007",
   "metadata": {},
   "outputs": [],
   "source": [
    "import numpy as np\n",
    "from scipy import stats\n",
    "from collections import Counter\n",
    "import matplotlib.pyplot as plt\n",
    "\n",
    "\n"
   ]
  },
  {
   "cell_type": "code",
   "execution_count": 3,
   "id": "b165c5d8",
   "metadata": {},
   "outputs": [
    {
     "name": "stdout",
     "output_type": "stream",
     "text": [
      "Food-Panda sales analysis\n",
      "sales data shape: (6, 5)\n",
      "sales of 1st 3 years: [[ 10000  20000  30000  40000  50000]\n",
      " [200000 300000 400000 500000 600000]\n",
      " [ 30000  40000  50000  60000  70000]]\n"
     ]
    }
   ],
   "source": [
    "#data structure of [2019,2020,2021,2022,2023]\n",
    "data=np.array([[ 10000,20000,30000,40000,50000],    #Chai\n",
    "              [200000,300000,400000,500000,600000], #Coffee\n",
    "            [ 30000,40000,50000,60000,70000],    #Cocoa\n",
    "            [ 40000,50000,60000,70000,80000],    #Sugar\n",
    "            [ 50000,60000,70000,80000,90000],    #Rice\n",
    "            [ 600000,700000,800000,900000,1000000] #Corn\n",
    "])\n",
    "print('Food-Panda sales analysis')\n",
    "print('sales data shape:',data.shape)\n",
    "print('sales of 1st 3 years:',data[:3])\n",
    "\n",
    "\n"
   ]
  },
  {
   "cell_type": "code",
   "execution_count": 4,
   "id": "b6b0e777",
   "metadata": {},
   "outputs": [
    {
     "name": "stdout",
     "output_type": "stream",
     "text": [
      "[ 150000 2000000  250000  300000  350000 4000000]\n",
      "[ 150000 2000000  250000  300000  350000 4000000]\n"
     ]
    }
   ],
   "source": [
    "data=np.array([[ 10000,20000,30000,40000,50000],    #Chai\n",
    "              [200000,300000,400000,500000,600000], #Coffee\n",
    "            [ 30000,40000,50000,60000,70000],    #Cocoa\n",
    "            [ 40000,50000,60000,70000,80000],    #Sugar\n",
    "            [ 50000,60000,70000,80000,90000],    #Rice\n",
    "            [ 600000,700000,800000,900000,1000000] #Corn\n",
    "])          \n",
    "          # sales per year\n",
    "\n",
    "\n",
    "print(data.sum(axis=1)) #axis=0 means sum of all rows for each column\n",
    "                           #BOTH ARE SAME\n",
    "year_total=np.sum(data[0:,0 :],axis=1) #sum of all rows for each column\n",
    "print(year_total)"
   ]
  },
  {
   "cell_type": "markdown",
   "id": "21553335",
   "metadata": {},
   "source": [
    "# **MINIMUM/MINIMUM SALES OF RESTRAUNT**"
   ]
  },
  {
   "cell_type": "code",
   "execution_count": 5,
   "id": "0b617529",
   "metadata": {},
   "outputs": [
    {
     "name": "stdout",
     "output_type": "stream",
     "text": [
      "[ 900000  300000  400000  900000 7000000]\n",
      "[10000 40000 50000 60000 10000]\n"
     ]
    }
   ],
   "source": [
    "                                 #maximum sales\n",
    "data=np.array([[ 10000,60000,50000,80000,10000],    #Chai\n",
    "              [200000,300000,400000,500000,600000], #Coffee\n",
    "            [ 30000,40000,50000,60000,70000],    #Cocoa\n",
    "            [ 40000,50000,60000,70000,80000],    #Sugar\n",
    "            [ 30000,90000,70000,80000,10000],    #Rice\n",
    "            [ 900000,200000,400000,900000,7000000] #Corn\n",
    "])          \n",
    "\n",
    "print(np.max(data,axis=0)) #axis=0 means min of all rows for each column\n",
    "\n",
    "                                #minimum sales\n",
    "print(np.min(data,axis=0)) #axis=0 means min of all rows for each column\n"
   ]
  },
  {
   "cell_type": "markdown",
   "id": "a5dbc88d",
   "metadata": {},
   "source": [
    "# **MEAN / MEDIAN /MODE**"
   ]
  },
  {
   "cell_type": "code",
   "execution_count": 6,
   "id": "bb4fb3f7",
   "metadata": {},
   "outputs": [
    {
     "name": "stdout",
     "output_type": "stream",
     "text": [
      "The average of data is 284716.6666666667\n",
      "The median of data is 234500.0\n",
      "The mode1 of data is 234500\n",
      "Mode: 23455.55\n"
     ]
    }
   ],
   "source": [
    "data=([98200,56700,125600,456700,234500,456900,120000,567100,234500,456700,234500,456900,120000,567100,234500,456700,234500,456900,120000,567100])  \n",
    "\n",
    "\n",
    "avg=np.mean(data[:16:3])\n",
    "print('The average of data is',avg)\n",
    "\n",
    "median = np.median(data)\n",
    "print('The median of data is',median)\n",
    "\n",
    "data2=([23455.55,75.77,55500.7,7000,1230000,5400.899999])\n",
    "\n",
    "                     #np.argmax cannot be used for float values\n",
    "\n",
    "mode1 = np.argmax(np.bincount(data))\n",
    "print('The mode1 of data is',mode1)       \n",
    "\n",
    "\n",
    "                         #counter method can be used for all data types\n",
    "                      \n",
    "counter = Counter(data2)       # Counts each item\n",
    "mode2 = counter.most_common(1)[0][0]  # Gets the most common value\n",
    "print(\"Mode:\", mode2)          # Output: Mode: 3\n"
   ]
  },
  {
   "cell_type": "markdown",
   "id": "47ee64bb",
   "metadata": {},
   "source": [
    "# *CUMULATIVE-SUM*"
   ]
  },
  {
   "cell_type": "code",
   "execution_count": 7,
   "id": "7c20480d",
   "metadata": {},
   "outputs": [
    {
     "name": "stdout",
     "output_type": "stream",
     "text": [
      "The cumulative sum of data is [    1000     3200     4588   845821   935816   947822 70947822 70955944\n",
      " 70956856 70957857]\n"
     ]
    },
    {
     "data": {
      "image/png": "[encoded data removed]",
      "text/plain": [
       "<Figure size 1000x500 with 1 Axes>"
      ]
     },
     "metadata": {},
     "output_type": "display_data"
    }
   ],
   "source": [
    "data=([1000,2200,1388,841233,89995,12006,70000000,8122,912,1001])\n",
    "cumsum=(np.cumsum(data)) #cumulative sum of data\n",
    "print('The cumulative sum of data is',cumsum)\n",
    "\n",
    "figure=plt.figure(figsize=(10,5))\n",
    "plt.plot(np.mean(cumsum, axis= 0))\n",
    "plt.plot(cumsum, marker='o')  # Add marker for better visibility\n",
    "plt.title('Cumulative sum of data')\n",
    "plt.xlabel('Year')\n",
    "plt.ylabel('Sales')\n",
    "plt.grid()\n",
    "plt.show()\n",
    "\n"
   ]
  },
  {
   "cell_type": "code",
   "execution_count": 8,
   "id": "e0516739",
   "metadata": {},
   "outputs": [
    {
     "name": "stdout",
     "output_type": "stream",
     "text": [
      "The sum of vector1 and vector2 is [ 7  9 11 13 15]\n",
      "The difference of vector1 and vector2 is [-5 -5 -5 -5 -5]\n",
      "The product of vector1 and vector2 is [ 6 14 24 36 50]\n",
      "The division of vector1 and vector2 is [0.16666667 0.28571429 0.375      0.44444444 0.5       ]\n",
      "The square of vector1 is [ 1  4  9 16 25]\n",
      "dot product of vector1 and vector2 is 130\n"
     ]
    }
   ],
   "source": [
    "vector1=np.array([1,2,3,4,5])\n",
    "vector2=np.array([6,7,8,9,10])\n",
    "print('The sum of vector1 and vector2 is',np.add(vector1,vector2)) #sum of two vectors\n",
    "\n",
    "print('The difference of vector1 and vector2 is',np.subtract(vector1,vector2)) #difference of two vectors\n",
    "\n",
    "print('The product of vector1 and vector2 is',np.multiply(vector1,vector2)) #product of two vectors\n",
    "\n",
    "print('The division of vector1 and vector2 is',np.divide(vector1,vector2)) #division of two vectors\n",
    "\n",
    "print('The square of vector1 is',np.square(vector1)) #square of vector1\n",
    "\n",
    "print('dot product of vector1 and vector2 is',np.dot(vector1,vector2)) #dot product of two vectors\n",
    "\n",
    "angle=np.arccos(np.dot(vector1,vector2)/(np.linalg.norm(vector1)*np.linalg.norm(vector2))) #angle between two vectors\n",
    "\n"
   ]
  },
  {
   "cell_type": "code",
   "execution_count": 9,
   "id": "2d0c2466",
   "metadata": {},
   "outputs": [
    {
     "name": "stdout",
     "output_type": "stream",
     "text": [
      "The upper case array is ['HE' 'SHE' 'WILL' 'BE' 'THERE']\n",
      "The upper case array is ['HE' 'SHE' 'WILL' 'BE' 'THERE']\n"
     ]
    }
   ],
   "source": [
    "array=(['he','she','will','be','there'])\n",
    "upper_case_array = np.char.upper(array) #convert to upper case\n",
    "print('The upper case array is',upper_case_array)\n",
    "\n",
    "                    #BOTH ARE SAME METHODS\n",
    "\n",
    "vectorize_upper=np.vectorize(str.upper) #convert to upper case using vectorize\n",
    "print('The upper case array is',vectorize_upper(array)) #convert to upper case using vectorize"
   ]
  },
  {
   "cell_type": "markdown",
   "id": "4aea02f2",
   "metadata": {},
   "source": [
    "# **BROADCAST**"
   ]
  },
  {
   "cell_type": "code",
   "execution_count": 10,
   "id": "15d34b29",
   "metadata": {},
   "outputs": [
    {
     "name": "stdout",
     "output_type": "stream",
     "text": [
      "The average of data is [[ 1000.         65750.         10000.         33358.33333333\n",
      "  41717.5         6575.         10250.         46866.66666667]]\n"
     ]
    }
   ],
   "source": [
    "data=np.array([[9200,12000,789000,120000,400300,500610,78900,123000,562400,]])\n",
    "mothly_avg=data[:, 1:]/12\n",
    "print('The average of data is',mothly_avg)"
   ]
  }
 ],
 "metadata": {
  "kernelspec": {
   "display_name": "Python 3",
   "language": "python",
   "name": "python3"
  },
  "language_info": {
   "codemirror_mode": {
    "name": "ipython",
    "version": 3
   },
   "file_extension": ".py",
   "mimetype": "text/x-python",
   "name": "python",
   "nbconvert_exporter": "python",
   "pygments_lexer": "ipython3",
   "version": "3.13.0"
  }
 },
 "nbformat": 4,
 "nbformat_minor": 5
}
