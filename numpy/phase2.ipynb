{
 "cells": [
  {
   "cell_type": "markdown",
   "id": "bcc52eab",
   "metadata": {},
   "source": [
    "# NUMPY ARRAY OPERATION"
   ]
  },
  {
   "cell_type": "code",
   "execution_count": 9,
   "id": "aa87fda3",
   "metadata": {},
   "outputs": [],
   "source": [
    "import numpy as np\n"
   ]
  },
  {
   "cell_type": "code",
   "execution_count": 79,
   "id": "98300ded",
   "metadata": {},
   "outputs": [
    {
     "name": "stdout",
     "output_type": "stream",
     "text": [
      "slicing array [3 6 9]\n",
      "negative_indexing [1 3 5 7 9]\n",
      "Specific element is 5\n",
      "Entire coloumn is [3 7 9]\n",
      "Entire coloumn is [3 7 9]\n",
      "Specific row is [4 5 9]\n"
     ]
    }
   ],
   "source": [
    "arrry=np.array([1,2,3,4,5,6,7,8,9,10,])\n",
    "print('slicing array',arrry[2:9:3])\n",
    "print('negative_indexing',arrry[-10:-1:2])\n",
    "\n",
    "d2_aray=np.array([[1,3,4],\n",
    "                  [9,2,5],\n",
    "                  [3,7,9]])\n",
    "print('Specific element is' ,d2_aray[1,2])\n",
    "print('Entire coloumn is' ,d2_aray[2])\n",
    "print('Entire coloumn is' ,d2_aray[2])\n",
    "print('Specific row is' ,d2_aray[:,2])\n"
   ]
  },
  {
   "cell_type": "markdown",
   "id": "83ccc3a6",
   "metadata": {},
   "source": [
    "# SORTING"
   ]
  },
  {
   "cell_type": "code",
   "execution_count": null,
   "id": "fb99b5ae",
   "metadata": {},
   "outputs": [
    {
     "name": "stdout",
     "output_type": "stream",
     "text": [
      "The sorted form of unsorted1 is [0 1 2 3 4 5 6 7 8]\n",
      "The axis_0 is [5 7 9]\n",
      "The axis_1 is [ 6 15]\n"
     ]
    }
   ],
   "source": [
    "unsorted1=np.array([3,4,2,5,6,1,8,0,7])\n",
    "print('The sorted form of unsorted1 is',np.sort(unsorted1))\n",
    "\n",
    "axis0=np.array([[1,2,3],  #ADD COLOUMN\n",
    "                [4,5,6]])\n",
    "print('The axis_0 is',np.sum(axis0,axis=0))\n",
    "\n",
    "axis1=np.array([[1,2,3],  #ADD ROW\n",
    "                [4,5,6]])\n",
    "print('The axis_1 is',np.sum(axis1,axis=1))\n"
   ]
  },
  {
   "cell_type": "markdown",
   "id": "aeb976c9",
   "metadata": {},
   "source": [
    "# FILTERING\n"
   ]
  },
  {
   "cell_type": "code",
   "execution_count": null,
   "id": "c26b5ac0",
   "metadata": {},
   "outputs": [
    {
     "name": "stdout",
     "output_type": "stream",
     "text": [
      "The even_numbers is [ 2  4  6  8 10]\n"
     ]
    }
   ],
   "source": [
    "numbers=np.array([1,2,3,4,5,6,7,8,9,10])\n",
    "even_numbers=numbers[numbers%2==0]\n",
    "print('The even_numbers is',even_numbers)"
   ]
  },
  {
   "cell_type": "markdown",
   "id": "c5f9fc87",
   "metadata": {},
   "source": [
    "# FILTER WITH MASK"
   ]
  },
  {
   "cell_type": "code",
   "execution_count": null,
   "id": "6d465dd0",
   "metadata": {},
   "outputs": [
    {
     "name": "stdout",
     "output_type": "stream",
     "text": [
      "The geater than 5 is [ 6  7  8  9 10]\n"
     ]
    }
   ],
   "source": [
    "mask = numbers > 5\n",
    "print('The geater than 5 is', numbers[mask])"
   ]
  },
  {
   "cell_type": "markdown",
   "id": "b367e858",
   "metadata": {},
   "source": [
    "# ***Fancy indexing vs np.where()***"
   ]
  },
  {
   "cell_type": "code",
   "execution_count": 19,
   "id": "9447faf4",
   "metadata": {},
   "outputs": [
    {
     "name": "stdout",
     "output_type": "stream",
     "text": [
      "The indices is [ 1  6 10]\n",
      "(array([5, 6, 7, 8, 9]),)\n",
      "The where_arr is [ 6  7  8  9 10]\n"
     ]
    }
   ],
   "source": [
    "indices=[0,5,9]\n",
    "print( 'The indices is', numbers[indices])\n",
    "\n",
    "where_arr = np.where(numbers > 5) \n",
    "print(where_arr)\n",
    "print('The where_arr is', numbers[where_arr])"
   ]
  },
  {
   "cell_type": "code",
   "execution_count": 51,
   "id": "f69693ec",
   "metadata": {},
   "outputs": [
    {
     "name": "stdout",
     "output_type": "stream",
     "text": [
      "The condition_array is [ 0  0  0  0  0 24 28 32 36 40]\n"
     ]
    }
   ],
   "source": [
    "condition_array=np.where(numbers > 5,numbers*4,False)  # if ,use,else\n",
    "print('The condition_array is', condition_array)"
   ]
  },
  {
   "cell_type": "markdown",
   "id": "86f88b95",
   "metadata": {},
   "source": [
    "# *****ADDING AND REMOVING DATA*****"
   ]
  },
  {
   "cell_type": "code",
   "execution_count": 90,
   "id": "900e1923",
   "metadata": {},
   "outputs": [
    {
     "name": "stdout",
     "output_type": "stream",
     "text": [
      "The combined is [1 2 3 4 5 6]\n",
      "The remove is [1 2 4 5 6]\n",
      "The delete is [ 0  1  3  4  5  6  7  8 89]\n",
      "delete is [ 0  1  4  5  6  7  8 89]\n"
     ]
    }
   ],
   "source": [
    "ary1=np.array([1,2,3])\n",
    "ary2=np.array([4,5,6])\n",
    "\n",
    "                #COMBINE METHOD\n",
    "\n",
    "combined=np.concatenate((ary1,ary2))\n",
    "print('The combined is', combined)\n",
    "\n",
    "                #REMOVE METHOD  \n",
    "\n",
    "remove=np.delete(combined,2)\n",
    "print('The remove is', remove)\n",
    "\n",
    "                #delete method\n",
    "delete=np.array([0,1,3,4,5,6,7,8,89])\n",
    "deleted=np.delete(delete, 2)\n",
    "print('The delete is', delete)\n",
    "print('delete is', deleted) \n",
    "\n",
    "                #insert method\n",
    "\n"
   ]
  },
  {
   "cell_type": "markdown",
   "id": "0534b726",
   "metadata": {},
   "source": [
    "# ***ARRAY COMPATIBLITY***"
   ]
  },
  {
   "cell_type": "code",
   "execution_count": 63,
   "id": "8f37bbac",
   "metadata": {},
   "outputs": [
    {
     "name": "stdout",
     "output_type": "stream",
     "text": [
      "Compatiblity shapes True\n"
     ]
    }
   ],
   "source": [
    "a1=np.array([1,2,3])\n",
    "a2=np.array([4,5,6])\n",
    "a3=np.array([7,8,9])    \n",
    "print('Compatiblity shapes',a1.shape == a2.shape)"
   ]
  },
  {
   "cell_type": "markdown",
   "id": "93d601c6",
   "metadata": {},
   "source": [
    "# ***********COMPATIBLITY SHAPE FALSE***********\n"
   ]
  },
  {
   "cell_type": "code",
   "execution_count": null,
   "id": "6194ce15",
   "metadata": {},
   "outputs": [
    {
     "name": "stdout",
     "output_type": "stream",
     "text": [
      "The row is [[1 2 3]\n",
      " [4 5 6]]\n",
      "The with_row is [[1 2 3]\n",
      " [4 5 6]\n",
      " [7 8 9]]\n",
      "The coloumn is [[4]\n",
      " [5]]\n",
      "The with_coloumn is [[4 6]\n",
      " [5 7]]\n"
     ]
    }
   ],
   "source": [
    "row=np.array([[1,2,3],[4,5,6]])\n",
    "\n",
    "new_row=np.array([7,8,9])\n",
    "with_row=np.vstack((row , new_row))\n",
    "print('The row is', row)\n",
    "print('The with_row is', with_row)\n",
    "\n",
    "\n",
    "coloumn=np.array([[4],[5]])\n",
    "new_coloumn=np.array([[6],[7]])\n",
    "with_coloumn=np.hstack((coloumn , new_coloumn))\n",
    "print('The coloumn is', coloumn)\n",
    "print('The with_coloumn is', with_coloumn)\n"
   ]
  }
 ],
 "metadata": {
  "kernelspec": {
   "display_name": "Python 3",
   "language": "python",
   "name": "python3"
  },
  "language_info": {
   "codemirror_mode": {
    "name": "ipython",
    "version": 3
   },
   "file_extension": ".py",
   "mimetype": "text/x-python",
   "name": "python",
   "nbconvert_exporter": "python",
   "pygments_lexer": "ipython3",
   "version": "3.13.0"
  }
 },
 "nbformat": 4,
 "nbformat_minor": 5
}
