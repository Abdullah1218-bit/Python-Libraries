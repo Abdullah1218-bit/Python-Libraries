{
 "cells": [
  {
   "cell_type": "code",
   "execution_count": 2,
   "id": "16f166f7",
   "metadata": {},
   "outputs": [],
   "source": [
    "import numpy as np"
   ]
  },
  {
   "cell_type": "code",
   "execution_count": 3,
   "id": "da223b01",
   "metadata": {},
   "outputs": [
    {
     "name": "stdout",
     "output_type": "stream",
     "text": [
      "hello\n"
     ]
    }
   ],
   "source": [
    "print('hello')"
   ]
  },
  {
   "cell_type": "markdown",
   "id": "f7a1f888",
   "metadata": {},
   "source": [
    "##CREATING ARRAY FROM LIST\n"
   ]
  },
  {
   "cell_type": "code",
   "execution_count": 4,
   "id": "19cd5d36",
   "metadata": {},
   "outputs": [
    {
     "name": "stdout",
     "output_type": "stream",
     "text": [
      "[[ 3  9 12 15]\n",
      " [12 15  9  6]]\n"
     ]
    }
   ],
   "source": [
    "Array_1D=np.array([[1,3,4,5],[4,5,3,2]])\n",
    "print(Array_1D*3)\n"
   ]
  },
  {
   "cell_type": "code",
   "execution_count": 5,
   "id": "8e482b12",
   "metadata": {},
   "outputs": [
    {
     "name": "stdout",
     "output_type": "stream",
     "text": [
      "[list([1, 3, 5, 4, 5, 1, 3, 5, 4, 5, 1, 3, 5, 4, 5, 1, 3, 5, 4, 5])\n",
      " list([4, 5, 3, 1, 1, 1, 12, 4, 5, 3, 1, 1, 1, 12, 4, 5, 3, 1, 1, 1, 12, 4, 5, 3, 1, 1, 1, 12])]\n"
     ]
    }
   ],
   "source": [
    "Array_2D=np.array ([[1,3,5,4,5] , [4,5,3,1,1,1,12]], dtype=object)\n",
    "print(Array_2D*4)"
   ]
  },
  {
   "cell_type": "code",
   "execution_count": 6,
   "id": "9be7eadf",
   "metadata": {},
   "outputs": [
    {
     "name": "stdout",
     "output_type": "stream",
     "text": [
      "Time for creating Python list:  0.0001704692840576172\n",
      "Time for creating np array:  0.00011134147644042969\n"
     ]
    }
   ],
   "source": [
    "import time\n",
    "start=time.time()\n",
    "python_list=[i*2 for i in range(1000)]\n",
    "print('Time for creating Python list: ',time.time()-start)\n",
    "\n",
    "start=time.time()\n",
    "\n",
    "np_array=np.arange(1000)*2\n",
    "print('Time for creating np array: ',time.time()-start)\n"
   ]
  },
  {
   "cell_type": "markdown",
   "id": "8f339076",
   "metadata": {},
   "source": [
    "####CREATING ARRAY FROM SCRATCH\n"
   ]
  },
  {
   "cell_type": "code",
   "execution_count": 12,
   "id": "18c8db6c",
   "metadata": {},
   "outputs": [
    {
     "name": "stdout",
     "output_type": "stream",
     "text": [
      "zeros array: \n",
      " [[0. 0. 0. 0.]\n",
      " [0. 0. 0. 0.]\n",
      " [0. 0. 0. 0.]]\n",
      "ones array: \n",
      " [[1. 1. 1.]\n",
      " [1. 1. 1.]]\n",
      "full array: \n",
      " [7 7]\n",
      "random array: \n",
      " [[0.54292759 0.86992254 0.1339641 ]\n",
      " [0.88799192 0.59711522 0.58393421]]\n",
      "sequence array: \n",
      " [ 0  2  4  6  8 10]\n",
      "linspace array: \n",
      " [ 0.          1.42857143  2.85714286  4.28571429  5.71428571  7.14285714\n",
      "  8.57142857 10.         11.42857143 12.85714286 14.28571429 15.71428571\n",
      " 17.14285714 18.57142857 20.        ]\n"
     ]
    }
   ],
   "source": [
    "zeros=np.zeros((3,4))\n",
    "print('zeros array: \\n',zeros)\n",
    "\n",
    "ones=np.ones((2,3))\n",
    "print('ones array: \\n',ones)\n",
    "\n",
    "full=np.full((2,),7)\n",
    "print('full array: \\n',full)\n",
    "\n",
    "random=np.random.random((2,3))\n",
    "print('random array: \\n',random)\n",
    "\n",
    "sequence=np.arange(0,11,2)\n",
    "print('sequence array: \\n',sequence)\n",
    "\n",
    "linspace=np.linspace(0,20,15)\n",
    "print('linspace array: \\n',linspace)"
   ]
  },
  {
   "cell_type": "markdown",
   "id": "8e293b2a",
   "metadata": {},
   "source": [
    "#            Vector,Matrix and Tensor"
   ]
  },
  {
   "cell_type": "code",
   "execution_count": 8,
   "id": "f0f320d2",
   "metadata": {},
   "outputs": [
    {
     "name": "stdout",
     "output_type": "stream",
     "text": [
      "Vector is:  [1 9 2]\n",
      "matrix is:  [[1 2 4]\n",
      " [8 4 1]]\n",
      "Tensor is:  [[5 6]\n",
      " [4 1]\n",
      " [3 3]\n",
      " [7 9]]\n"
     ]
    }
   ],
   "source": [
    "vector=np.array([1,9,2])\n",
    "\n",
    "print('Vector is: ', vector)\n",
    "\n",
    "matrix=np.array([[1,2,4],\n",
    "                [8,4,1]])\n",
    "print('matrix is: ', matrix)\n",
    "\n",
    "Tensor=np.array([[5,6],[4,1],\n",
    "                [3,3],[7,9]])\n",
    "print('Tensor is: ', Tensor)\n"
   ]
  },
  {
   "cell_type": "markdown",
   "id": "0df4aa45",
   "metadata": {},
   "source": [
    "# ARRAY PROPERTIES"
   ]
  },
  {
   "cell_type": "code",
   "execution_count": 9,
   "id": "7a580a7f",
   "metadata": {},
   "outputs": [
    {
     "name": "stdout",
     "output_type": "stream",
     "text": [
      "Array have (2, 3) shape\n",
      "Array have 2 dimension\n",
      "Array have 6 size\n",
      "Array have float64 data-type\n"
     ]
    }
   ],
   "source": [
    "Array_2D=np.array([[1,2,3],\n",
    "                  [94,5,9.6]])\n",
    "\n",
    "print('Array have',Array_2D.shape, 'shape')\n",
    "print('Array have',Array_2D.ndim, 'dimension')\n",
    "print('Array have',Array_2D.size, 'size')\n",
    "print('Array have',Array_2D.dtype, 'data-type')\n"
   ]
  },
  {
   "cell_type": "markdown",
   "id": "fa447fd1",
   "metadata": {},
   "source": [
    "# ARRAY RESHAPING"
   ]
  },
  {
   "cell_type": "code",
   "execution_count": 10,
   "id": "f82791f3",
   "metadata": {},
   "outputs": [
    {
     "name": "stdout",
     "output_type": "stream",
     "text": [
      "\n",
      " Arange of aray is [ 0  1  2  3  4  5  6  7  8  9 10 11 12 13 14 15]\n",
      "\n",
      " Reshape of aray is [[ 0  1]\n",
      " [ 2  3]\n",
      " [ 4  5]\n",
      " [ 6  7]\n",
      " [ 8  9]\n",
      " [10 11]\n",
      " [12 13]\n",
      " [14 15]]\n",
      "\n",
      " falten of reshape is : [ 0  1  2  3  4  5  6  7  8  9 10 11 12 13 14 15]\n",
      "\n",
      " ravel of reshape is : [ 0  1  2  3  4  5  6  7  8  9 10 11 12 13 14 15]\n",
      "\n",
      " The transpose of reshape is [[ 0  2  4  6  8 10 12 14]\n",
      " [ 1  3  5  7  9 11 13 15]]\n"
     ]
    }
   ],
   "source": [
    "aray=np.arange(16)\n",
    "print('\\n Arange of aray is' , aray)\n",
    "\n",
    "reshaped=aray.reshape((8,2))\n",
    "print('\\n Reshape of aray is' , reshaped)\n",
    "\n",
    "#Returns copy instead of view\n",
    "flattened=reshaped.flatten()\n",
    "print('\\n falten of reshape is :', flattened)\n",
    "\n",
    "#Returns view instead of copy\n",
    "ravel=reshaped.ravel()\n",
    "print('\\n ravel of reshape is :', ravel)\n",
    "\n",
    "transpose=reshaped.T\n",
    "print('\\n The transpose of reshape is', transpose)\n",
    "\n"
   ]
  }
 ],
 "metadata": {
  "kernelspec": {
   "display_name": "Python 3",
   "language": "python",
   "name": "python3"
  },
  "language_info": {
   "codemirror_mode": {
    "name": "ipython",
    "version": 3
   },
   "file_extension": ".py",
   "mimetype": "text/x-python",
   "name": "python",
   "nbconvert_exporter": "python",
   "pygments_lexer": "ipython3",
   "version": "3.13.0"
  }
 },
 "nbformat": 4,
 "nbformat_minor": 5
}
