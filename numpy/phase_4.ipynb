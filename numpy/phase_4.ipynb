{
 "cells": [
  {
   "cell_type": "code",
   "execution_count": 23,
   "id": "2ce1454a",
   "metadata": {},
   "outputs": [],
   "source": [
    "import numpy as np\n",
    "import matplotlib.pyplot as plt"
   ]
  },
  {
   "cell_type": "code",
   "execution_count": 24,
   "id": "f5f138ea",
   "metadata": {},
   "outputs": [],
   "source": [
    "aray1=np.array([[1, 2, 3], [4, 5, 6],\n",
    "                [7, 8, 9],])\n",
    "aray2=np.random.randint(1, 10, (3, 3))\n",
    "aray3=np.zeros((3, 3))\n",
    "\n"
   ]
  },
  {
   "cell_type": "markdown",
   "id": "00a09124",
   "metadata": {},
   "source": [
    "# **SAVING**"
   ]
  },
  {
   "cell_type": "code",
   "execution_count": 25,
   "id": "0b887121",
   "metadata": {},
   "outputs": [],
   "source": [
    "np.save('aray1.npy', aray1)\n",
    "np.save('aray2.npy', aray2)\n",
    "np.save('aray3.npy', aray3)"
   ]
  },
  {
   "cell_type": "markdown",
   "id": "50b9540e",
   "metadata": {},
   "source": [
    "# **LOADING**"
   ]
  },
  {
   "cell_type": "code",
   "execution_count": 26,
   "id": "6e2bfe04",
   "metadata": {},
   "outputs": [
    {
     "name": "stdout",
     "output_type": "stream",
     "text": [
      "[[1 2 3]\n",
      " [4 5 6]\n",
      " [7 8 9]]\n"
     ]
    }
   ],
   "source": [
    "loaded_aray1 = np.load('aray1.npy')\n",
    "print(loaded_aray1)"
   ]
  },
  {
   "cell_type": "code",
   "execution_count": 41,
   "id": "2dd6bf6d",
   "metadata": {},
   "outputs": [
    {
     "name": "stdout",
     "output_type": "stream",
     "text": [
      "File not found. Please check the file path and try again.\n"
     ]
    }
   ],
   "source": [
    "try:\n",
    "    logo=np.load('numpy_logo.png')\n",
    "    print(logo)\n",
    "    #Display\n",
    "    plt.figure(figsize=(4, 4))\n",
    "    plt.subplot(1, 2, 1)\n",
    "    plt.imshow(logo, cmap='gray')\n",
    "    plt.title('Logo')\n",
    "    plt.grid (False)\n",
    "    plt.show()\n",
    "\n",
    "     \n",
    "except FileNotFoundError:\n",
    "    print(\"File not found. Please check the file path and try again.\")"
   ]
  }
 ],
 "metadata": {
  "kernelspec": {
   "display_name": "Python 3",
   "language": "python",
   "name": "python3"
  },
  "language_info": {
   "codemirror_mode": {
    "name": "ipython",
    "version": 3
   },
   "file_extension": ".py",
   "mimetype": "text/x-python",
   "name": "python",
   "nbconvert_exporter": "python",
   "pygments_lexer": "ipython3",
   "version": "3.13.0"
  }
 },
 "nbformat": 4,
 "nbformat_minor": 5
}
